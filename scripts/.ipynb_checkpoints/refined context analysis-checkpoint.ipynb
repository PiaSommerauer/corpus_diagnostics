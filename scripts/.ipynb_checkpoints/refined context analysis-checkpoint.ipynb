{
 "cells": [
  {
   "cell_type": "markdown",
   "metadata": {},
   "source": [
    "# Analyze based on semantic categories\n",
    "\n",
    "1.) change tfidf so we compare equivalent categories only - done\n",
    "2.) update ranking accordingly"
   ]
  },
  {
   "cell_type": "code",
   "execution_count": 1,
   "metadata": {},
   "outputs": [],
   "source": [
    "import os\n",
    "from collections import Counter, defaultdict\n",
    "import csv"
   ]
  },
  {
   "cell_type": "code",
   "execution_count": 3,
   "metadata": {},
   "outputs": [
    {
     "name": "stdout",
     "output_type": "stream",
     "text": [
      "1446\n",
      "1636\n"
     ]
    }
   ],
   "source": [
    "f_original = os.listdir('../contexts/giga_full/vocab')\n",
    "print(len(f_original))\n",
    "f_update = os.listdir('../contexts/giga_full_updated/vocab')\n",
    "print(len(f_update))"
   ]
  },
  {
   "cell_type": "code",
   "execution_count": 2,
   "metadata": {},
   "outputs": [
    {
     "name": "stdout",
     "output_type": "stream",
     "text": [
      "1669\n",
      "1874\n"
     ]
    }
   ],
   "source": [
    "f_original = os.listdir('../contexts/wiki/vocab')\n",
    "print(len(f_original))\n",
    "f_update = os.listdir('../contexts/wiki_updated/vocab')\n",
    "print(len(f_update))"
   ]
  },
  {
   "cell_type": "code",
   "execution_count": 11,
   "metadata": {},
   "outputs": [],
   "source": [
    "\n",
    "def get_categories(prop, model_name):\n",
    "    analysis_type = 'tfidf-raw-10000/each_target_vs_corpus_per_category'\n",
    "    path_dir = f'../results/{model_name}/{analysis_type}'\n",
    "    path_dir = f'{path_dir}/{prop}'\n",
    "    categories = set()\n",
    "    for d in os.listdir(path_dir):\n",
    "        categories.add(d)\n",
    "    return categories\n",
    "\n",
    "def get_context_cnts(prop, cat, label, model_name):\n",
    "    \n",
    "    analysis_type = 'tfidf-raw-10000/each_target_vs_corpus_per_category'\n",
    "    path_dir = f'../results/{model_name}/{analysis_type}'\n",
    "    path_dir = f'{path_dir}/{prop}'\n",
    "    path_label = f'{path_dir}/{cat}/{label}'\n",
    "    \n",
    "    context_cnt = Counter()\n",
    "    for f in os.listdir(path_label):\n",
    "        full_path = f'{path_label}/{f}'\n",
    "        if full_path.endswith('.csv'):\n",
    "            with open(full_path) as infile:\n",
    "                data = list(csv.DictReader(infile))\n",
    "            for d in data:\n",
    "                context = d['']\n",
    "                diff = float(d['diff'])\n",
    "                if diff > 0:\n",
    "                    context_cnt[context] += 1\n",
    "    return context_cnt\n",
    "    \n",
    "def get_n_concepts_total(prop, cat, label, model_name):\n",
    "    \n",
    "    analysis_type = 'tfidf-raw-10000/each_target_vs_corpus_per_category'\n",
    "    path_dir = f'../results/{model_name}/{analysis_type}'\n",
    "    path_dir = f'{path_dir}/{prop}'\n",
    "    path_pos = f'{path_dir}/{cat}/{label}'\n",
    "    path_neg = f'{path_dir}/{cat}/{label}'\n",
    "    \n",
    "    files_pos = [f for f in os.listdir(path_pos) if f.endswith('.csv')]\n",
    "    files_neg = [f for f in os.listdir(path_neg) if f.endswith('.csv')]\n",
    "    \n",
    "    return len(files_pos), len(files_neg)\n",
    "\n",
    "\n",
    "def get_f1_distinctiveness(n_pos, n_neg, total_pos, total_neg):\n",
    "    \n",
    "    tp = n_pos\n",
    "    tn = total_neg - n_neg\n",
    "    fp = n_neg\n",
    "    fn = total_pos - n_pos\n",
    "    \n",
    "    if tp+fp != 0:\n",
    "        p = tp/(tp+fp)\n",
    "    else:\n",
    "        p = 0\n",
    "    if tp+fn != 0:\n",
    "        r = tp/(tp+fn)\n",
    "    else:\n",
    "        r = 0\n",
    "    \n",
    "    if p+r != 0:\n",
    "        f1 = 2 * ((p*r)/(p+r))\n",
    "    else:\n",
    "        f1=0\n",
    "    \n",
    "    return p, r, f1\n",
    "\n",
    "    \n",
    "def aggregate_contexts(prop, cutoff, model_name):\n",
    "    \n",
    "    annotation_name = 'annotation-tfidf-top20-raw-10000-categories'\n",
    "    aggregation_name = 'aggregated-tfidf-top20-raw-10000-categories'\n",
    "\n",
    "    path_dir_agg = f'../analysis/{model_name}/{aggregation_name}/{prop}'\n",
    "    \n",
    "    os.makedirs(path_dir_agg, exist_ok = True)\n",
    "    \n",
    "    context_cnts_all = Counter()\n",
    "    context_cat_dict = defaultdict(set)\n",
    "\n",
    "    cats = get_categories(prop, model_name)\n",
    "\n",
    "    for cat in cats:\n",
    "        context_cnts_pos = get_context_cnts(prop, cat, 'pos', model_name)\n",
    "        context_cnts_neg = get_context_cnts(prop, cat, 'neg', model_name)\n",
    "        total_pos, total_neg = get_n_concepts_total(prop, cat, label, model_name)\n",
    "        \n",
    "        context_f1_dict = Counter()\n",
    "        context_score_dict = defaultdict(dict)\n",
    "        \n",
    "        # get distinctiveness\n",
    "        for c, cnt_pos in context_cnts_pos.most_common():\n",
    "            cnt_neg = context_cnts_neg[c]\n",
    "            p, r, f1 = get_f1_distinctiveness(cnt_pos, cnt_neg, total_pos, total_neg)\n",
    "            context_f1_dict[context] = f1\n",
    "            context_score_dict[context] = {'p': p,'r':r, 'f1': f1}\n",
    "        \n",
    "        table = []\n",
    "        for c, f1 in context_f1_dict.most_common():\n",
    "            scores = context_score_dict[c]\n",
    "            d = dict()\n",
    "            d['context'] = c\n",
    "            d.update(scores)\n",
    "            d['n_pos'] = context_cnts_pos[c]\n",
    "            d['total_pos'] = total_pos\n",
    "            d['n_neg'] = context_cnts_neg[c]\n",
    "            d['total_neg'] = total_neg\n",
    "            table.append(d)\n",
    "        \n",
    "        # collect and write to file\n",
    "        f = f'{path_dir_agg}/{cat}.csv'\n",
    "        \n",
    "        header = table[0].keys()\n",
    "        with open(f, 'w') as outfile:\n",
    "            writer = csv.DictWriter(fieldnames = header)\n",
    "            writer.writeheader()\n",
    "            for d in table:\n",
    "                writer.writerow(d)\n",
    "        \n",
    "\n",
    "                \n",
    "def prepare_annotation(prop, model_name):\n",
    "    \n",
    "    annotation_name = 'annotation-tfidf-top20-raw-10000-categories'\n",
    "    os.makedirs(path_dir_agg, exist_ok = True)\n",
    "    \n",
    "    # get categories\n",
    "    cats = get_categories(prop, model_name)\n",
    "    \n",
    "    # collect all contexts and categories \n",
    "    context_cats_dict = defaultdict(set)\n",
    "    \n",
    "    # load top 20 per category\n",
    "    for \n",
    "    \n",
    "    \n",
    "    \n",
    "    \n",
    "    \n",
    "                \n",
    "# def prepare_annotation(prop, label, cutoff, model_name)\n",
    "\n",
    "#     annotation_name = 'annotation-tfidf-top20-raw-10000-categories'\n",
    "#     aggregation_name = 'aggregated-tfidf-top20-raw-10000-categories'\n",
    "#     path_dir = f'../analysis/{model_name}/{annotation_name}/{prop}-{label}'\n",
    "\n",
    "    \n",
    "#     os.makedirs(path_dir_agg, exist_ok = True)\n",
    "    \n",
    "#     context_cnts_all = Counter()\n",
    "#     context_cat_dict = defaultdict(set)\n",
    "\n",
    "#     cats = get_categories(prop, model_name)\n",
    "\n",
    "#     for cat in cats:\n",
    "#         context_cnts = get_context_cnts(prop, cat, label, model_name)\n",
    "#         # collect and write to file\n",
    "#         f = f'{path_dir_agg}/{cat}.csv'\n",
    "#         with open(f, 'w') as outfile:\n",
    "#             outfile.write('context')\n",
    "#             for c, cnt in context_cnts.most_common(cutoff):\n",
    "#                 context_cat_dict[c].add(cat)\n",
    "\n",
    "#     os.makedirs(path_dir, exist_ok=True)\n",
    "#     with open(f'{path_dir}/annotation.csv', 'w') as outfile:\n",
    "#         outfile.write('context,evidence_type,categories\\n')\n",
    "#         for c, cats in context_cat_dict.items():\n",
    "#             line = f'{c}, ,{\" \".join(cats)}\\n'\n",
    "#             outfile.write(line)\n",
    "        "
   ]
  },
  {
   "cell_type": "code",
   "execution_count": 14,
   "metadata": {},
   "outputs": [],
   "source": [
    "model_name = 'giga_full_updated'\n",
    "prop = 'lay_eggs'\n",
    "label = 'pos'\n",
    "cutoff = 20\n",
    "aggregate_contexts(prop, cutoff, model_name)\n",
    "        \n",
    "# for c, cnt in context_cnts_all.most_common():\n",
    "#     print(c, cnt, context_cat_dict[c])"
   ]
  },
  {
   "cell_type": "code",
   "execution_count": 38,
   "metadata": {},
   "outputs": [],
   "source": [
    "\n"
   ]
  },
  {
   "cell_type": "code",
   "execution_count": 52,
   "metadata": {},
   "outputs": [
    {
     "name": "stdout",
     "output_type": "stream",
     "text": [
      "hose\n"
     ]
    }
   ],
   "source": [
    "## test if word not in pairs\n",
    "\n",
    "path = '/Users/piasommerauer/Data/dsm/corpus_exploration/giga_full/counts/pairs'\n",
    "\n",
    "\n",
    "with open(path) as infile:\n",
    "    for line in infile:\n",
    "        w, c = line.strip().split(' ')\n",
    "        if w in ['hose', 'hoursefly', 'bra', 'dress']:\n",
    "            print(w)\n",
    "            break"
   ]
  },
  {
   "cell_type": "code",
   "execution_count": null,
   "metadata": {},
   "outputs": [],
   "source": []
  }
 ],
 "metadata": {
  "kernelspec": {
   "display_name": "Python 3",
   "language": "python",
   "name": "python3"
  },
  "language_info": {
   "codemirror_mode": {
    "name": "ipython",
    "version": 3
   },
   "file_extension": ".py",
   "mimetype": "text/x-python",
   "name": "python",
   "nbconvert_exporter": "python",
   "pygments_lexer": "ipython3",
   "version": "3.8.3"
  }
 },
 "nbformat": 4,
 "nbformat_minor": 4
}
