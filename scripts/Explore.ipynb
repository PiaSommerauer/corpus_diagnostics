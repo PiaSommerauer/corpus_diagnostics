{
 "cells": [
  {
   "cell_type": "markdown",
   "metadata": {},
   "source": [
    "# Ideas\n",
    "\n",
    "Can we find evidence among all contexts of positive examples of a property by comparing them to the contexts of all negative examples?\n",
    "\n",
    "Here, similar concepts should come in handy, as there should be a lot of overlap in their contexts. Distinctive aspects should be all the more salient. \n",
    "\n"
   ]
  },
  {
   "cell_type": "code",
   "execution_count": 7,
   "metadata": {},
   "outputs": [],
   "source": [
    "import json\n",
    "import pandas as pd\n",
    "\n",
    "from tqdm import tqdm\n",
    "import os\n",
    "\n",
    "from sklearn.feature_extraction.text import TfidfVectorizer as tfidf\n",
    "import seaborn as sn\n",
    "\n",
    "#import gzip\n",
    "#from nltk import word_tokenize, sent_tokenize\n",
    "#import stanfordnlp\n",
    "#from stanfordnlp.server import CoreNLPClient\n",
    "#from nltk.corpus import stopwords"
   ]
  },
  {
   "cell_type": "code",
   "execution_count": null,
   "metadata": {},
   "outputs": [],
   "source": [
    "label = 'pos'\n",
    "prop = 'test'\n",
    "extract_contexts(target_pos, pairs, prop, label)\n",
    "combine_contexts(target_pos, prop, label)"
   ]
  },
  {
   "cell_type": "code",
   "execution_count": 35,
   "metadata": {},
   "outputs": [
    {
     "name": "stdout",
     "output_type": "stream",
     "text": [
      "660\n"
     ]
    },
    {
     "data": {
      "text/html": [
       "<div>\n",
       "<style scoped>\n",
       "    .dataframe tbody tr th:only-of-type {\n",
       "        vertical-align: middle;\n",
       "    }\n",
       "\n",
       "    .dataframe tbody tr th {\n",
       "        vertical-align: top;\n",
       "    }\n",
       "\n",
       "    .dataframe thead th {\n",
       "        text-align: right;\n",
       "    }\n",
       "</style>\n",
       "<table border=\"1\" class=\"dataframe\">\n",
       "  <thead>\n",
       "    <tr style=\"text-align: right;\">\n",
       "      <th></th>\n",
       "      <th>pos</th>\n",
       "      <th>neg</th>\n",
       "    </tr>\n",
       "  </thead>\n",
       "  <tbody>\n",
       "    <tr>\n",
       "      <th>the</th>\n",
       "      <td>0.407808</td>\n",
       "      <td>0.308568</td>\n",
       "    </tr>\n",
       "    <tr>\n",
       "      <th>it</th>\n",
       "      <td>0.188219</td>\n",
       "      <td>0.143999</td>\n",
       "    </tr>\n",
       "    <tr>\n",
       "      <th>and</th>\n",
       "      <td>0.188219</td>\n",
       "      <td>0.185141</td>\n",
       "    </tr>\n",
       "    <tr>\n",
       "      <th>or</th>\n",
       "      <td>0.141164</td>\n",
       "      <td>0.041142</td>\n",
       "    </tr>\n",
       "    <tr>\n",
       "      <th>international</th>\n",
       "      <td>0.132268</td>\n",
       "      <td>0.000000</td>\n",
       "    </tr>\n",
       "    <tr>\n",
       "      <th>...</th>\n",
       "      <td>...</td>\n",
       "      <td>...</td>\n",
       "    </tr>\n",
       "    <tr>\n",
       "      <th>notlet</th>\n",
       "      <td>0.000000</td>\n",
       "      <td>0.028912</td>\n",
       "    </tr>\n",
       "    <tr>\n",
       "      <th>operation</th>\n",
       "      <td>0.000000</td>\n",
       "      <td>0.028912</td>\n",
       "    </tr>\n",
       "    <tr>\n",
       "      <th>opportunity</th>\n",
       "      <td>0.000000</td>\n",
       "      <td>0.028912</td>\n",
       "    </tr>\n",
       "    <tr>\n",
       "      <th>original</th>\n",
       "      <td>0.000000</td>\n",
       "      <td>0.028912</td>\n",
       "    </tr>\n",
       "    <tr>\n",
       "      <th>your</th>\n",
       "      <td>0.000000</td>\n",
       "      <td>0.028912</td>\n",
       "    </tr>\n",
       "  </tbody>\n",
       "</table>\n",
       "<p>660 rows × 2 columns</p>\n",
       "</div>"
      ],
      "text/plain": [
       "                    pos       neg\n",
       "the            0.407808  0.308568\n",
       "it             0.188219  0.143999\n",
       "and            0.188219  0.185141\n",
       "or             0.141164  0.041142\n",
       "international  0.132268  0.000000\n",
       "...                 ...       ...\n",
       "notlet         0.000000  0.028912\n",
       "operation      0.000000  0.028912\n",
       "opportunity    0.000000  0.028912\n",
       "original       0.000000  0.028912\n",
       "your           0.000000  0.028912\n",
       "\n",
       "[660 rows x 2 columns]"
      ]
     },
     "execution_count": 35,
     "metadata": {},
     "output_type": "execute_result"
    }
   ],
   "source": [
    "label = 'pos'\n",
    "prop = 'test'\n",
    "extract_contexts(target_pos, pairs, prop, label)\n",
    "combine_contexts(target_pos, prop, label)\n",
    "label = 'neg'\n",
    "prop = 'test'\n",
    "extract_contexts(target_neg, pairs, prop, label)\n",
    "combine_contexts(target_neg, prop, label)\n",
    "\n",
    "paths = [f'../contexts/{prop}/pos/all.txt', f'../contexts/{prop}/neg/all.txt']\n",
    "\n",
    "vectorizer = tfidf(input = 'filename')\n",
    "x = vectorizer.fit_transform(paths)\n",
    "x = x.toarray()\n",
    "\n",
    "vocab = vectorizer.get_feature_names()\n",
    "print(len(vocab))\n",
    "\n",
    "\n",
    "vec_pos = x[0]\n",
    "vec_neg = x[1]\n",
    "vec_dict = dict()\n",
    "vec_dict['pos'] = vec_pos\n",
    "vec_dict['neg'] = vec_neg\n",
    "\n",
    "df = pd.DataFrame(vec_dict, index = vocab).sort_values('pos', ascending=False)\n",
    "df"
   ]
  },
  {
   "cell_type": "code",
   "execution_count": 36,
   "metadata": {},
   "outputs": [
    {
     "data": {
      "image/png": "[encoded data removed]",
      "text/plain": [
       "<Figure size 432x288 with 2 Axes>"
      ]
     },
     "metadata": {
      "needs_background": "light"
     },
     "output_type": "display_data"
    }
   ],
   "source": [
    "plt = sn.heatmap(df[:30].T, xticklabels=True)"
   ]
  },
  {
   "cell_type": "code",
   "execution_count": null,
   "metadata": {},
   "outputs": [],
   "source": []
  },
  {
   "cell_type": "code",
   "execution_count": 105,
   "metadata": {},
   "outputs": [],
   "source": []
  },
  {
   "cell_type": "code",
   "execution_count": 106,
   "metadata": {},
   "outputs": [
    {
     "name": "stdout",
     "output_type": "stream",
     "text": [
      "286\n"
     ]
    }
   ],
   "source": [
    "vocab = vectorizer.get_feature_names()\n",
    "print(len(vocab))"
   ]
  },
  {
   "cell_type": "code",
   "execution_count": 107,
   "metadata": {},
   "outputs": [
    {
     "data": {
      "text/plain": [
       "143"
      ]
     },
     "execution_count": 107,
     "metadata": {},
     "output_type": "execute_result"
    }
   ],
   "source": [
    "vectorizer.vocabulary_['love']"
   ]
  },
  {
   "cell_type": "code",
   "execution_count": 108,
   "metadata": {},
   "outputs": [],
   "source": [
    "vec_pos = x[0]\n",
    "vec_neg = x[1]\n",
    "vec_dict = dict()\n",
    "vec_dict['pos'] = vec_pos\n",
    "vec_dict['neg'] = vec_neg"
   ]
  },
  {
   "cell_type": "code",
   "execution_count": 109,
   "metadata": {},
   "outputs": [
    {
     "data": {
      "text/html": [
       "<div>\n",
       "<style scoped>\n",
       "    .dataframe tbody tr th:only-of-type {\n",
       "        vertical-align: middle;\n",
       "    }\n",
       "\n",
       "    .dataframe tbody tr th {\n",
       "        vertical-align: top;\n",
       "    }\n",
       "\n",
       "    .dataframe thead th {\n",
       "        text-align: right;\n",
       "    }\n",
       "</style>\n",
       "<table border=\"1\" class=\"dataframe\">\n",
       "  <thead>\n",
       "    <tr style=\"text-align: right;\">\n",
       "      <th></th>\n",
       "      <th>pos</th>\n",
       "      <th>neg</th>\n",
       "    </tr>\n",
       "  </thead>\n",
       "  <tbody>\n",
       "    <tr>\n",
       "      <th>summer</th>\n",
       "      <td>0.232574</td>\n",
       "      <td>0.000000</td>\n",
       "    </tr>\n",
       "    <tr>\n",
       "      <th>the</th>\n",
       "      <td>0.220638</td>\n",
       "      <td>0.208484</td>\n",
       "    </tr>\n",
       "    <tr>\n",
       "      <th>love</th>\n",
       "      <td>0.155049</td>\n",
       "      <td>0.000000</td>\n",
       "    </tr>\n",
       "    <tr>\n",
       "      <th>where</th>\n",
       "      <td>0.155049</td>\n",
       "      <td>0.000000</td>\n",
       "    </tr>\n",
       "    <tr>\n",
       "      <th>st</th>\n",
       "      <td>0.155049</td>\n",
       "      <td>0.000000</td>\n",
       "    </tr>\n",
       "    <tr>\n",
       "      <th>...</th>\n",
       "      <td>...</td>\n",
       "      <td>...</td>\n",
       "    </tr>\n",
       "    <tr>\n",
       "      <th>increased</th>\n",
       "      <td>0.000000</td>\n",
       "      <td>0.048836</td>\n",
       "    </tr>\n",
       "    <tr>\n",
       "      <th>indeed</th>\n",
       "      <td>0.000000</td>\n",
       "      <td>0.048836</td>\n",
       "    </tr>\n",
       "    <tr>\n",
       "      <th>industrial</th>\n",
       "      <td>0.000000</td>\n",
       "      <td>0.048836</td>\n",
       "    </tr>\n",
       "    <tr>\n",
       "      <th>instead</th>\n",
       "      <td>0.000000</td>\n",
       "      <td>0.048836</td>\n",
       "    </tr>\n",
       "    <tr>\n",
       "      <th>you</th>\n",
       "      <td>0.000000</td>\n",
       "      <td>0.048836</td>\n",
       "    </tr>\n",
       "  </tbody>\n",
       "</table>\n",
       "<p>286 rows × 2 columns</p>\n",
       "</div>"
      ],
      "text/plain": [
       "                 pos       neg\n",
       "summer      0.232574  0.000000\n",
       "the         0.220638  0.208484\n",
       "love        0.155049  0.000000\n",
       "where       0.155049  0.000000\n",
       "st          0.155049  0.000000\n",
       "...              ...       ...\n",
       "increased   0.000000  0.048836\n",
       "indeed      0.000000  0.048836\n",
       "industrial  0.000000  0.048836\n",
       "instead     0.000000  0.048836\n",
       "you         0.000000  0.048836\n",
       "\n",
       "[286 rows x 2 columns]"
      ]
     },
     "execution_count": 109,
     "metadata": {},
     "output_type": "execute_result"
    }
   ],
   "source": [
    "df = pd.DataFrame(vec_dict, index = vocab).sort_values('pos', ascending=False)\n",
    "df"
   ]
  },
  {
   "cell_type": "code",
   "execution_count": 110,
   "metadata": {},
   "outputs": [
    {
     "data": {
      "image/png": "[encoded data removed]",
      "text/plain": [
       "<Figure size 432x288 with 2 Axes>"
      ]
     },
     "metadata": {
      "needs_background": "light"
     },
     "output_type": "display_data"
    }
   ],
   "source": [
    "plt = sn.heatmap(df[:30].T, xticklabels=True)"
   ]
  },
  {
   "cell_type": "code",
   "execution_count": 120,
   "metadata": {},
   "outputs": [
    {
     "name": "stdout",
     "output_type": "stream",
     "text": [
      "152 15\n"
     ]
    }
   ],
   "source": [
    "# context manipulation\n",
    "pairs_manipulated = []\n",
    "contexts_target = [(w, c) for w, c in pairs if w == target_pos]\n",
    "n_total = len(contexts_target)\n",
    "# manipulate 10%\n",
    "n_percent = round(0.1 * n_total)\n",
    "print(n_total, n_percent)\n",
    "\n",
    "\n",
    "# manipulate every nth (n_percent) context\n",
    "# replace context with manipulation word\n",
    "\n",
    "cnt = 0\n",
    "for w, c in pairs:\n",
    "    new_pair = (w, c)\n",
    "    if w == target_pos:\n",
    "        if cnt % n_percent == 0:\n",
    "            #print(w, c)\n",
    "            #print('replacing concept with ', target_manipulation)\n",
    "            #print(w, target_manipulation)\n",
    "            new_pair = (w, target_manipulation)\n",
    "        cnt += 1\n",
    "    pairs_manipulated.append(new_pair)\n",
    "        "
   ]
  },
  {
   "cell_type": "code",
   "execution_count": 121,
   "metadata": {},
   "outputs": [
    {
     "name": "stdout",
     "output_type": "stream",
     "text": [
      "287901 287901\n"
     ]
    }
   ],
   "source": [
    "print(len(pairs), len(pairs_manipulated))"
   ]
  },
  {
   "cell_type": "code",
   "execution_count": 12,
   "metadata": {},
   "outputs": [
    {
     "name": "stdout",
     "output_type": "stream",
     "text": [
      "(ROOT\n",
      "  (S\n",
      "    (NP (NNP Pusheen)\n",
      "      (CC and)\n",
      "      (NNP Smitha))\n",
      "    (VP (VBD walked)\n",
      "      (PP (IN along)\n",
      "        (NP (DT the) (NN beach))))\n",
      "    (. .)))\n"
     ]
    }
   ],
   "source": [
    "# test - success \n",
    "\n",
    "from pycorenlp import StanfordCoreNLP\n",
    "nlp = StanfordCoreNLP('http://localhost:9000')\n",
    "\n",
    "\n",
    "text = (\n",
    "  'Pusheen and Smitha walked along the beach. '\n",
    "  'Pusheen wanted to surf, but fell off the surfboard.')\n",
    "output = nlp.annotate(text, properties={\n",
    "  'annotators': 'tokenize,ssplit,pos,depparse,parse',\n",
    "  'outputFormat': 'json'\n",
    "  })\n",
    "print(output['sentences'][0]['parse'])"
   ]
  },
  {
   "cell_type": "code",
   "execution_count": null,
   "metadata": {},
   "outputs": [],
   "source": []
  }
 ],
 "metadata": {
  "kernelspec": {
   "display_name": "Python 3",
   "language": "python",
   "name": "python3"
  },
  "language_info": {
   "codemirror_mode": {
    "name": "ipython",
    "version": 3
   },
   "file_extension": ".py",
   "mimetype": "text/x-python",
   "name": "python",
   "nbconvert_exporter": "python",
   "pygments_lexer": "ipython3",
   "version": "3.8.3"
  }
 },
 "nbformat": 4,
 "nbformat_minor": 4
}
