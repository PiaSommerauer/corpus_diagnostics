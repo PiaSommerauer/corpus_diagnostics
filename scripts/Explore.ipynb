{
 "cells": [
  {
   "cell_type": "markdown",
   "metadata": {},
   "source": [
    "# Ideas\n",
    "\n",
    "Can we find evidence among all contexts of positive examples of a property by comparing them to the contexts of all negative examples?\n",
    "\n",
    "Here, similar concepts should come in handy, as there should be a lot of overlap in their contexts. Distinctive aspects should be all the more salient. \n",
    "\n"
   ]
  },
  {
   "cell_type": "code",
   "execution_count": 1,
   "metadata": {},
   "outputs": [],
   "source": [
    "import json\n",
    "import pandas as pd\n",
    "from statistics import stdev\n",
    "import os\n",
    "\n",
    "from sklearn.feature_extraction.text import TfidfVectorizer as tfidf\n",
    "import seaborn as sn\n"
   ]
  },
  {
   "cell_type": "code",
   "execution_count": 7,
   "metadata": {},
   "outputs": [],
   "source": [
    "def load_data(prop):\n",
    "    path = f'../data/aggregated/{prop}.json'\n",
    "    with open(path) as infile:\n",
    "        prop_dict = json.load(infile)\n",
    "    return prop_dict\n",
    "\n",
    "def combine_contexts(prop, label, target_words, model):\n",
    "    \n",
    "    c = ''\n",
    "    for target in target_words:\n",
    "        path = f'../contexts/{model}/vocab/{target}.txt'\n",
    "        if os.path.isfile(path):\n",
    "            with open(path) as infile:\n",
    "                c += f' {infile.read()}'\n",
    "    path_dir = f'../contexts/{model}/{prop}/{label}'\n",
    "    os.makedirs(path_dir, exist_ok=True)\n",
    "    path_all = f'{path_dir}/ALL.txt'\n",
    "    with open(path_all, 'w') as outfile:\n",
    "        outfile.write(c)\n",
    "        \n",
    "def get_tfidf(path_pos, paths_neg):\n",
    "         \n",
    "    # first path is pos, rest is neg:\n",
    "    paths = [path_pos]\n",
    "    paths.extend(paths_neg)\n",
    "    vectorizer = tfidf(input = 'filename')\n",
    "    x = vectorizer.fit_transform(paths)\n",
    "    x = x.toarray()\n",
    "\n",
    "    vocab = vectorizer.get_feature_names()\n",
    "\n",
    "\n",
    "    # number_of_paths\n",
    "    n_paths = len(paths)\n",
    "    vec_pos = x[0]\n",
    "\n",
    "    vec_dict = dict()\n",
    "    vec_dict['pos'] = vec_pos\n",
    "    vec_dict['mean_neg'] =  []\n",
    "    for vec in x.T:\n",
    "        vec_neg = vec[1:]\n",
    "        mean_neg = sum(vec_neg)/len(vec_neg)\n",
    "        vec_dict['mean_neg'].append(mean_neg)\n",
    "    for n, path in enumerate(paths):\n",
    "        if n > 0:\n",
    "            vec_dict[path] = x[n]\n",
    "    df = pd.DataFrame(vec_dict, index = vocab).sort_values('pos', ascending=False)\n",
    "\n",
    "    return df\n",
    "\n",
    "\n",
    "def tfidf_all_pos_vs_neg(prop, model):\n",
    "    condition = 'all_pos_vs_neg'\n",
    "    load_data(prop)\n",
    "\n",
    "    path_results_dir = f'../results/{model}/tfidf/{condition}'\n",
    "    os.makedirs(path_results_dir, exist_ok=True)\n",
    "\n",
    "    prop_dict = load_data(prop)\n",
    "    target_pos = [k for k, d in prop_dict.items() if d['ml_label'] in ['all', 'all-some', 'few-some']]\n",
    "    target_neg = [k for k, d in prop_dict.items() if d['ml_label'] in ['few']]\n",
    "\n",
    "    label = 'pos'\n",
    "    combine_contexts(prop, label, target_pos, model)\n",
    "    path_pos = f'../contexts/{model}/{prop}/pos/ALL.txt'\n",
    "    paths_neg = []\n",
    "    # add all neg paths\n",
    "    for target in target_neg:\n",
    "        path = f'../contexts/{model}/vocab/{target}.txt'\n",
    "        if os.path.isfile(path):\n",
    "            paths_neg.append(path)\n",
    "    df = get_tfidf(path_pos, paths_neg)\n",
    "    df.to_csv(f'{path_results_dir}/{prop}.csv') \n",
    "    \n",
    "    \n",
    "def tfidf_each_pos_vs_neg(prop, model):\n",
    "    condition = 'each_pos_vs_neg'\n",
    "    load_data(prop)\n",
    "\n",
    "    path_results_dir = f'../results/{model}/tfidf/{condition}/{prop}'\n",
    "    os.makedirs(path_results_dir, exist_ok=True)\n",
    "\n",
    "    prop_dict = load_data(prop)\n",
    "    target_pos = [k for k, d in prop_dict.items() if d['ml_label'] in ['all', 'all-some', 'few-some']]\n",
    "    target_neg = [k for k, d in prop_dict.items() if d['ml_label'] in ['few']]\n",
    "\n",
    "    paths_neg = []\n",
    "    # add all neg paths\n",
    "    for target in target_neg:\n",
    "        path = f'../contexts/{model}/vocab/{target}.txt'\n",
    "        if os.path.isfile(path):\n",
    "            paths_neg.append(path)\n",
    "    for target in target_pos:   \n",
    "        path_pos = f'../contexts/{model}/vocab/{target}.txt'\n",
    "        if os.path.isfile(path_pos):\n",
    "            paths = [path_pos]\n",
    "            paths.append(paths_neg)\n",
    "            df = get_tfidf(path_pos, paths_neg)\n",
    "            df.to_csv(f'{path_results_dir}/{target}.csv') \n",
    "       "
   ]
  },
  {
   "cell_type": "code",
   "execution_count": 8,
   "metadata": {},
   "outputs": [],
   "source": [
    "properties = ['fly']\n",
    "model = 'wiki'\n",
    "for prop in properties:\n",
    "    tfidf_all_pos_vs_neg(prop, model)\n"
   ]
  },
  {
   "cell_type": "code",
   "execution_count": 5,
   "metadata": {},
   "outputs": [],
   "source": [
    "properties = ['swim']#, 'blue', 'swim', 'fly']\n",
    "model = 'wiki'\n",
    "for prop in properties:\n",
    "    tfidf_each_pos_vs_neg(prop, model)"
   ]
  },
  {
   "cell_type": "code",
   "execution_count": 55,
   "metadata": {},
   "outputs": [
    {
     "data": {
      "text/plain": [
       "7.152"
      ]
     },
     "execution_count": 55,
     "metadata": {},
     "output_type": "execute_result"
    }
   ],
   "source": [
    "(298*1.44)/60"
   ]
  },
  {
   "cell_type": "code",
   "execution_count": 56,
   "metadata": {},
   "outputs": [],
   "source": [
    "with open('hi.txt', 'a') as outfile:\n",
    "    outfile.write('hey')"
   ]
  },
  {
   "cell_type": "code",
   "execution_count": 9,
   "metadata": {},
   "outputs": [],
   "source": [
    "import itertools\n"
   ]
  },
  {
   "cell_type": "code",
   "execution_count": 40,
   "metadata": {},
   "outputs": [
    {
     "name": "stdout",
     "output_type": "stream",
     "text": [
      "0 1530697 1530697\n",
      "1530697 3061394 1530697\n",
      "68881365 70412062 1530697\n",
      "73473456 75004153 1530697\n"
     ]
    }
   ],
   "source": [
    "\n",
    "\n",
    "\n",
    "def get_batches(n_lines, n_batches):\n",
    "    batch_size = round(n_lines / n_batches)\n",
    "    batches = []\n",
    "    start = 0\n",
    "    for n in range(n_batches):\n",
    "        end = start + batch_size\n",
    "        batches.append((start, end))\n",
    "        start = end\n",
    "    # add final batch\n",
    "    last_b = batches[-1]\n",
    "    end = last_b[1]\n",
    "    if end < n_lines:\n",
    "        batches.append((end, n_lines + 1))\n",
    "    return batches\n",
    "\n",
    "\n",
    "n_lines = 1530697448\n",
    "n_batches = 1000\n",
    "batches = get_batches(n_lines, n_batches)\n",
    "batch_n = 0\n",
    "start, end = batches[batch_n]\n",
    "print(start, end, end-start)\n",
    "batch_n = 1\n",
    "start, end = batches[batch_n]\n",
    "print(start, end, end-start)\n",
    "batch_n = 45\n",
    "start, end = batches[batch_n]\n",
    "print(start, end, end-start)\n",
    "batch_n =  48\n",
    "start, end = batches[batch_n]\n",
    "print(start, end, end-start)\n",
    "\n",
    "# 880150775 881681472"
   ]
  },
  {
   "cell_type": "code",
   "execution_count": null,
   "metadata": {},
   "outputs": [],
   "source": []
  }
 ],
 "metadata": {
  "kernelspec": {
   "display_name": "Python 3",
   "language": "python",
   "name": "python3"
  },
  "language_info": {
   "codemirror_mode": {
    "name": "ipython",
    "version": 3
   },
   "file_extension": ".py",
   "mimetype": "text/x-python",
   "name": "python",
   "nbconvert_exporter": "python",
   "pygments_lexer": "ipython3",
   "version": "3.8.3"
  }
 },
 "nbformat": 4,
 "nbformat_minor": 4
}
